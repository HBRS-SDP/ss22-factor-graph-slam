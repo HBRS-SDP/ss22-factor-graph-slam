{
 "cells": [
  {
   "cell_type": "code",
   "execution_count": 1,
   "id": "b25bc142",
   "metadata": {},
   "outputs": [],
   "source": [
    "from Factor_graph import Factor_graph\n",
    "from Factor import Factor\n",
    "from Edge import Edge\n",
    "from Inference import Inference\n",
    "import numpy as np"
   ]
  },
  {
   "cell_type": "code",
   "execution_count": 2,
   "id": "403953c9",
   "metadata": {},
   "outputs": [],
   "source": [
    "s = Inference()\n",
    "fa = Factor()\n",
    "fb = Factor()\n",
    "fc = Factor()\n",
    "x1 = Edge(\"x1\")\n",
    "x2 = Edge(\"x2\")\n",
    "x3 = Edge(\"x3\")\n",
    "x4 = Edge(\"x4\")\n",
    "x5 = Edge(\"x5\")"
   ]
  },
  {
   "cell_type": "code",
   "execution_count": 3,
   "id": "b85b8c48",
   "metadata": {},
   "outputs": [],
   "source": [
    "fa.add_factor(\"Fa\", 10)\n",
    "fb.add_factor(\"Fb\", 2)\n",
    "fc.add_factor(\"Fc\", 1)\n",
    "\n",
    "fa.link_variables({\"incoming\":[x1], \"outgoing\":[x2]})\n",
    "fb.link_variables({\"incoming\":[x2, x3], \"outgoing\":[x4]})\n",
    "fc.link_variables({\"incoming\":[x4], \"outgoing\":[x5]})\n",
    "\n",
    "x1.add_edge(None, fa)\n",
    "x2.add_edge(fa, fb)\n",
    "x3.add_edge(None, fb)\n",
    "x4.add_edge(fb, fc)\n",
    "x5.add_edge(fc, None)\n",
    "\n",
    "x1.add_distribution(np.array([[0.3, 0.4]]))\n",
    "x2.add_distribution(np.array([[0.2, 0.8]]))\n",
    "x3.add_distribution(np.array([[0.4, 0.6]]))\n",
    "x4.add_distribution(np.array([[0.5, 0.5]]))\n",
    "x5.add_distribution(np.array([[0.3, 0.4]]))"
   ]
  },
  {
   "cell_type": "code",
   "execution_count": 4,
   "id": "b74775e1",
   "metadata": {},
   "outputs": [
    {
     "name": "stdout",
     "output_type": "stream",
     "text": [
      "x2  :  [0.21 0.28]\n"
     ]
    }
   ],
   "source": [
    "s.infer_variable(x2)"
   ]
  },
  {
   "cell_type": "code",
   "execution_count": 5,
   "id": "0cad99e4",
   "metadata": {},
   "outputs": [
    {
     "name": "stdout",
     "output_type": "stream",
     "text": [
      "Blue color nodes : Variables attached to edges between factors\n",
      "Red color nodes : Factors\n"
     ]
    },
    {
     "data": {
      "image/png": "[encoded data removed]",
      "text/plain": [
       "<Figure size 432x288 with 1 Axes>"
      ]
     },
     "metadata": {},
     "output_type": "display_data"
    }
   ],
   "source": [
    "s.print_graph()"
   ]
  },
  {
   "cell_type": "code",
   "execution_count": null,
   "id": "90c99ae9",
   "metadata": {},
   "outputs": [],
   "source": []
  }
 ],
 "metadata": {
  "kernelspec": {
   "display_name": "Python 3 (ipykernel)",
   "language": "python",
   "name": "python3"
  },
  "language_info": {
   "codemirror_mode": {
    "name": "ipython",
    "version": 3
   },
   "file_extension": ".py",
   "mimetype": "text/x-python",
   "name": "python",
   "nbconvert_exporter": "python",
   "pygments_lexer": "ipython3",
   "version": "3.8.10"
  }
 },
 "nbformat": 4,
 "nbformat_minor": 5
}
